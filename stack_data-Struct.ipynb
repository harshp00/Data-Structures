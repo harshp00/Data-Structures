{
  "cells": [
    {
      "metadata": {
        "trusted": true
      },
      "cell_type": "code",
      "source": "!pip install import-ipynb\n",
      "execution_count": 1,
      "outputs": [
        {
          "output_type": "stream",
          "text": "Collecting import-ipynb\n  Downloading https://files.pythonhosted.org/packages/63/35/495e0021bfdcc924c7cdec4e9fbb87c88dd03b9b9b22419444dc370c8a45/import-ipynb-0.1.3.tar.gz\nBuilding wheels for collected packages: import-ipynb\n  Building wheel for import-ipynb (setup.py) ... \u001b[?25ldone\n\u001b[?25h  Created wheel for import-ipynb: filename=import_ipynb-0.1.3-cp36-none-any.whl size=4442 sha256=4b6c12060b06919162fb7d639093441e3c6b569e0f3fd2a3959c4bf4baaccd14\n  Stored in directory: /home/nbuser/.cache/pip/wheels/b4/7b/e9/a3a6e496115dffdb4e3085d0ae39ffe8a814eacc44bbf494b5\nSuccessfully built import-ipynb\nInstalling collected packages: import-ipynb\nSuccessfully installed import-ipynb-0.1.3\n\u001b[33mWARNING: You are using pip version 19.3.1; however, version 20.1.1 is available.\nYou should consider upgrading via the 'pip install --upgrade pip' command.\u001b[0m\n",
          "name": "stdout"
        }
      ]
    },
    {
      "metadata": {
        "trusted": true
      },
      "cell_type": "code",
      "source": "import import_ipynb\nimport Stack_file\nfrom Stack_file import Stack",
      "execution_count": 2,
      "outputs": [
        {
          "output_type": "stream",
          "text": "importing Jupyter notebook from Stack_file.ipynb\nTrue\n['A', 'B', 'C', 'D']\n['A', 'B', 'C']\nC\n",
          "name": "stdout"
        }
      ]
    },
    {
      "metadata": {
        "trusted": true
      },
      "cell_type": "code",
      "source": "def is_match(p1,p2):\n    if p1=='(' and p2==')':\n        return True \n    elif p1=='{' and p2=='}':\n        return True \n    elif p1=='[' and p2==']':\n        return True \n    else:\n        return False\n\n\ndef is_paren_balanced(paren_string):\n    s=Stack()\n    is_balanced=True\n    index=0\n    \n    while index <len(paren_string) and is_balanced:\n        paren=paren_string[index]\n        if paren in \"{([\":\n            s.push(paren)\n        else:\n            if s.is_empty():\n                is_balanced=False\n            else:\n                top=s.pop()\n                if not is_match(top,paren):\n                        is_balanced=False\n        index+=1\n        \n    if s.is_empty() and is_balanced:\n        return True\n    else:\n        return False\n\n    \nprint(is_paren_balanced('{}'))",
      "execution_count": 10,
      "outputs": [
        {
          "output_type": "stream",
          "text": "True\n",
          "name": "stdout"
        }
      ]
    },
    {
      "metadata": {
        "trusted": true
      },
      "cell_type": "code",
      "source": "def div_by_2(dec_num):\n    s=Stack()\n    \n    while dec_num > 0 :\n        remainder =dec_num%2\n        s.push(remainder)\n        dec_num=dec_num//2\n        \n    bin_num=''\n    while not s.is_empty():\n        bin_num+=str(s.pop())\n        \n    return bin_num\n\nprint(div_by_2(445))\n    \n    ",
      "execution_count": 4,
      "outputs": [
        {
          "output_type": "stream",
          "text": "110111101\n",
          "name": "stdout"
        }
      ]
    },
    {
      "metadata": {
        "trusted": true
      },
      "cell_type": "code",
      "source": "def reverse_string(input_str):\n    s=Stack()\n    \n    for  i in range (len(input_str)):\n        s.push(input_str[i])\n    \n    rev=''\n    while not s.is_empty():\n        rev+=s.pop()\n    return rev\n        \ninput_str='Hello'\nreverse_string(input_str)",
      "execution_count": 5,
      "outputs": [
        {
          "output_type": "execute_result",
          "execution_count": 5,
          "data": {
            "text/plain": "'olleH'"
          },
          "metadata": {}
        }
      ]
    },
    {
      "metadata": {},
      "cell_type": "markdown",
      "source": "# BLOOM Filters "
    },
    {
      "metadata": {
        "trusted": true
      },
      "cell_type": "code",
      "source": "! pip install pyhash",
      "execution_count": 7,
      "outputs": [
        {
          "output_type": "stream",
          "text": "Requirement already satisfied: pyhash in /home/nbuser/anaconda3_501/lib/python3.6/site-packages (0.9.3)\n\u001b[33mWARNING: You are using pip version 19.3.1; however, version 20.1.1 is available.\nYou should consider upgrading via the 'pip install --upgrade pip' command.\u001b[0m\n",
          "name": "stdout"
        }
      ]
    },
    {
      "metadata": {
        "trusted": true
      },
      "cell_type": "code",
      "source": "",
      "execution_count": null,
      "outputs": []
    },
    {
      "metadata": {},
      "cell_type": "markdown",
      "source": "# Linked List"
    },
    {
      "metadata": {
        "trusted": true
      },
      "cell_type": "code",
      "source": "",
      "execution_count": null,
      "outputs": []
    }
  ],
  "metadata": {
    "kernelspec": {
      "name": "python36",
      "display_name": "Python 3.6",
      "language": "python"
    },
    "language_info": {
      "mimetype": "text/x-python",
      "nbconvert_exporter": "python",
      "name": "python",
      "pygments_lexer": "ipython3",
      "version": "3.6.6",
      "file_extension": ".py",
      "codemirror_mode": {
        "version": 3,
        "name": "ipython"
      }
    }
  },
  "nbformat": 4,
  "nbformat_minor": 2
}