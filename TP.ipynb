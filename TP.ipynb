{
  "cells": [
    {
      "metadata": {
        "trusted": true
      },
      "cell_type": "code",
      "source": "tp=[\"Dr. Harsh PAndya\", \"Dr. kalp pandya\", \"Dr. Raj pandya\"]\n",
      "execution_count": 10,
      "outputs": []
    },
    {
      "metadata": {
        "trusted": true
      },
      "cell_type": "code",
      "source": "def ss_split(person):\n    pp=person.split()[0]\n    ss=person.split()[-1]\n    \n    return '{} {}'.format(pp,ss)\n\nlist(map(ss_split,tp))\n    ",
      "execution_count": 11,
      "outputs": [
        {
          "output_type": "execute_result",
          "execution_count": 11,
          "data": {
            "text/plain": "['Dr. PAndya', 'Dr. pandya', 'Dr. pandya']"
          },
          "metadata": {}
        }
      ]
    },
    {
      "metadata": {
        "trusted": true
      },
      "cell_type": "code",
      "source": "def lam_ss(person):\n    return person.split()[0] + ' ' +person.split()[-1]\n\nfor person in tp:\n    \n    print(lam_ss(person) == (lambda x:x.split()[0] + ' ' +x.split()[-1])(person))",
      "execution_count": 15,
      "outputs": [
        {
          "output_type": "stream",
          "text": "True\nTrue\nTrue\n",
          "name": "stdout"
        }
      ]
    },
    {
      "metadata": {
        "trusted": true
      },
      "cell_type": "code",
      "source": "func=lambda a,b,c:a+b\n\nfunc(5,6,7)",
      "execution_count": 13,
      "outputs": [
        {
          "output_type": "execute_result",
          "execution_count": 13,
          "data": {
            "text/plain": "11"
          },
          "metadata": {}
        }
      ]
    },
    {
      "metadata": {
        "trusted": true
      },
      "cell_type": "code",
      "source": "",
      "execution_count": null,
      "outputs": []
    }
  ],
  "metadata": {
    "kernelspec": {
      "name": "python36",
      "display_name": "Python 3.6",
      "language": "python"
    },
    "language_info": {
      "mimetype": "text/x-python",
      "nbconvert_exporter": "python",
      "name": "python",
      "pygments_lexer": "ipython3",
      "version": "3.6.6",
      "file_extension": ".py",
      "codemirror_mode": {
        "version": 3,
        "name": "ipython"
      }
    }
  },
  "nbformat": 4,
  "nbformat_minor": 2
}