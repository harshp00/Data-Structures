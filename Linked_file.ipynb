{
  "cells": [
    {
      "metadata": {
        "trusted": true,
        "scrolled": true
      },
      "cell_type": "code",
      "source": "class Node:\n    def __init__(self,data):\n        self.data=data\n        self.next=None\n\nclass LinkedList:\n    def __init__(self):\n        self.head=None\n        \n    def append(self,data):\n        new_node = Node(data)\n         \n        if self.head is None:\n            self.head=new_node \n            return \n        \n        last_node=self.head\n        while last_node.next:\n            last_node=last_node.next\n        last_node.next=new_node\n        \n    \n    def prepend(self,data):\n        new_node=Node(data)\n        \n        new_node.next=self.head\n        self.head=new_node\n    \n    \n    def insert_after_node(self,prev_node,data):\n        \n        if not prev_node:\n            print('Previous node is not in the list')\n            return \n        new_node=Node(data)\n        new_node.next=prev_node.next\n        prev_node.next=new_node\n    \n    #printing a list\n    \n    def print_list(self):\n        cur_node=self.head\n        while cur_node:\n            print(cur_node.data)\n            cur_node=cur_node.next\n   \n    # delete the node\n\n    def delete_node(self,key):\n        \n        cur_node=self.head\n        \n        if cur_node and cur_node==key:\n            self.head=curr_node.next\n            cur_node=None \n            return \n        \n        prev=None\n        while cur_node and cur_node.data !=key:\n            prev=cur_node\n            cur_node=cur_node.next\n            \n        if cur_node is None:\n            return \n        prev.next=cur_node.next\n        cur_node =None\n         \n            \n        # deleting the node at a particular position \n            \n            \n    def delete_node_at_pos(self,pos):\n        \n        cur_node =self.head\n        \n        if  pos==0:\n            self.head=cur_node.next\n            cur_node =None\n            return \n        \n        prev=None \n        count=1\n        while cur_node and count!=pos:\n            prev=cur_node\n            cur_node= cur_node.next\n            count+=1\n            \n        if cur_node is None :\n            return \n        prev.next =cur_node.next\n        cur_node =None \n    \n    # calculating the length of the list\n    \n    def len_iterative(self):\n        \n        count = 0\n        cur_node =self.head\n        \n        while cur_node:\n            count+=1\n            cur_node=cur_node.next\n        return count \n    \n    \n    def len_recursive(self,node):\n        if node is None:\n            return 0\n        return 1+ self.len_recursive(node.next)\n    \n   # swapping the nodes \n    \n    def swap_nodes(self,key_1,key_2):\n        \n        # steps to set previous and current node \n        \n        if key_1==key_2:\n            return \n        \n        prev_1=None\n        curr_1=self.head\n        while curr_1 and curr_1.data !=key_1:\n            \n            prev_1=curr_1\n            curr_1=curr_1.next \n            \n        \n        \n        prev_2=None\n        curr_2=self.head\n        while curr_2 and curr_2.data!=key_2:\n            prev_2=curr_2\n            curr_2=curr_2.next\n            \n        \n        # manipilating linked list \n        if not curr_1 or not curr_2:\n            return \n \n        if prev_1:\n            \n            prev_1.next=curr_2\n        else:\n            self.head =curr_2\n            \n        if prev_2:\n            prev_2.next = curr_1\n        else:\n            self.head=curr_1\n            \n        curr_1.next,curr_2.next=curr_2.next ,curr_1.next \n            \n    # for reversing a linked list \n    def print_helper(self,node,name):\n        if node is None:\n            print(name+':None')\n        else:\n            print(name+\":\" + node.data)\n\n    \n    \n    def reverse_iterative(self):\n        prev=None \n        cur=self.head\n\n        while cur:\n            nxt=cur.next\n            cur.next=prev # The main step \n\n            self.print_helper(prev,'PREV')\n            self.print_helper(cur,'CURR')\n            self.print_helper(nxt,'NXT')\n            print('\\n')\n\n            prev=cur\n            cur=nxt\n        self.head=prev \n\n\n    def reverse_recurssive(self):\n        \n        def second_reverse_recurssive(cur,prev):\n            if  not cur:\n                return prev\n            \n            nxt=cur.next\n            cur.next=prev # The main step \n            prev=cur\n            cur=nxt\n            return second_reverse_recurssive(cur,prev)\n        \n        self.head =second_reverse_recurssive(cur=self.head ,prev=None )\n        \n        \n        # sort twos list and merge it\n    def merge_sorted(self, llist):\n        \n        p=self.head\n        q= llist.head\n        s=None\n        \n        if not p:    #if list does not have nodes\n            return q\n        if not q:\n            return p\n        \n        if p and q:\n            if p.data <=q.data:\n                s=p\n                p=s.next\n            else:\n                s=q\n                q=s.next\n                \n            new_head =s \n            \n            \n        while p and q:\n            if p.data <= q.data :\n                \n                s.next=p\n                s=p\n                p=s.next \n                \n            else:\n                s.next=q\n                s=q\n                q=s.next \n        \n        if not p:\n            s.next=q\n            \n        if not q:\n            s.next=p\n            \n        return new_head\n        \n        \n        # remove duplicate nodes \n        \n    def remove_duplicate(self):\n        \n        cur =self.head \n        prev=None \n        \n        dup_values ={}    #dup_values=dict()\n        \n        while cur:\n            if cur.data in dup_values:\n                #remove node:\n                prev.next=cur.next\n                cur =None \n            else:\n                dup_values[cur.data]=1 \n                prev =cur \n            cur=prev.next \n        \n        \n            # Nth to the last node \n    def print_nth_from_last(self,n):\n        \n        '''total_length=self.len_iterative()\n        \n        cur=self.head\n        \n        while cur:\n            if total_length==n :\n                #print(cur.data)\n                return cur.data\n            \n            else:\n                total_length =total_length - 1\n                cur=cur.next\n                \n        if cur is None:\n            return\n            '''\n                \n       # Method 2\n        \n        p=self.head\n        q=self.head\n        \n        count =0 \n        while q and count <n :\n            q=q.next\n            count+=1\n            \n        if not q:\n            print (str(n) + 'is greater than the number of nodes in a list')\n            return \n        \n        while p and q:\n            \n            p=p.next\n            q=q.next \n        return p.data \n    \n        \n\n    # Count the number of occurences in the linked list\n    \n    def count_occurences_iterative(self,data):\n        \n        count=0 \n        cur=self.head\n        \n        while cur:\n            if cur.data==data:\n                count +=1 \n            else:\n                cur=cur.next\n        return count \n    \n    def count_occurences_recurssively(self,node,data):\n        \n        if not node:\n            return 0 \n        if node.data ==data :\n            return 1 + count_occurences_recurssively(node.next,data)\n        else:\n            return count_occurences_recurssively(node.next,data)\n        \n        \n        \nllist=LinkedList()\n# llist_2=LinkedList()  #For merging purpose \n\n'''llist.append('A')\nllist.append('B')\nllist.append('C')\nllist.append('D')'''\n\n\nllist.append('A')\nllist.append('B')\nllist.append('C')\nllist.append('D')\nllist.append('A')\n\n'''llist_2.append(2)\nllist_2.append(3)\nllist_2.append(4)\nllist_2.append(6)\nllist_2.append(8)\n'''\n#print(llist.len_recursive(llist.head))\n\n#llist.len_iterative()\n\n#llist.prepend('E')\n\n#llist.insert_after_node(llist.head.next,'G')\n\n#llist.delete_node('B')\n\n#print ('numbers to  be swapped ')\n#llist.swap_nodes('A','D')\n#print('after Swapping')\n\n\n#llist.reverse_iterative()\n\n#llist.reverse_recurssive()\n\n            # For merge sorting \n\n'''llist.print_list()\nprint('\\n')\nllist_2.print_list()\nllist.merge_sorted(llist_2)\nprint('\\n')\n\nllist.print_list()\n'''\n\n#llist.remove_duplicate()\n\n#print(llist.print_nth_from_last(3))\n\n#print(llist.count_occurences_iterative('A'))\n\nprint(llist.count_occurences_recurssively(llist.head,'A'))\nprint('-----------------------------------------')\nllist.print_list()",
      "execution_count": null,
      "outputs": []
    },
    {
      "metadata": {
        "trusted": true
      },
      "cell_type": "code",
      "source": "dic={1:'a',2:'b'}\ndic[3]='c'\n\nfor keys,values in dic.items():\n    print(keys)\n    print(values)",
      "execution_count": 11,
      "outputs": [
        {
          "output_type": "stream",
          "text": "1\na\n2\nb\n3\nc\n",
          "name": "stdout"
        }
      ]
    },
    {
      "metadata": {
        "trusted": true
      },
      "cell_type": "code",
      "source": "",
      "execution_count": null,
      "outputs": []
    }
  ],
  "metadata": {
    "kernelspec": {
      "name": "python36",
      "display_name": "Python 3.6",
      "language": "python"
    },
    "language_info": {
      "mimetype": "text/x-python",
      "nbconvert_exporter": "python",
      "name": "python",
      "pygments_lexer": "ipython3",
      "version": "3.6.6",
      "file_extension": ".py",
      "codemirror_mode": {
        "version": 3,
        "name": "ipython"
      }
    }
  },
  "nbformat": 4,
  "nbformat_minor": 2
}