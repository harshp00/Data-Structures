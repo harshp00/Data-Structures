{
  "cells": [
    {
      "metadata": {
        "collapsed": true
      },
      "cell_type": "markdown",
      "source": "# Stack "
    },
    {
      "metadata": {
        "trusted": true
      },
      "cell_type": "code",
      "source": "class Stack():\n    def __init__(self):\n        self.items=[]\n    def push(self,item):\n        self.items.append(item)\n    def pop(self):\n        return self.items.pop()\n    def is_empty(self):\n        return self.items==[]\n    def peek(self):\n        if not self.is_empty():\n            return self.items[-1]\n    def get_stack(self):\n        return self.items\n\ns=Stack()\nprint(s.is_empty())\ns.push('A')\ns.push('B')\ns.push('C')\ns.push('D')\nprint(s.get_stack())\ns.pop()\nprint(s.get_stack())\nprint(s.peek())\n        ",
      "execution_count": 10,
      "outputs": [
        {
          "output_type": "stream",
          "text": "True\n['A', 'B', 'C', 'D']\n['A', 'B', 'C']\nC\n",
          "name": "stdout"
        }
      ]
    },
    {
      "metadata": {
        "trusted": true
      },
      "cell_type": "markdown",
      "source": ""
    },
    {
      "metadata": {
        "trusted": true
      },
      "cell_type": "code",
      "source": "",
      "execution_count": null,
      "outputs": []
    },
    {
      "metadata": {
        "trusted": true
      },
      "cell_type": "code",
      "source": "",
      "execution_count": null,
      "outputs": []
    }
  ],
  "metadata": {
    "kernelspec": {
      "name": "python36",
      "display_name": "Python 3.6",
      "language": "python"
    },
    "language_info": {
      "mimetype": "text/x-python",
      "nbconvert_exporter": "python",
      "name": "python",
      "pygments_lexer": "ipython3",
      "version": "3.6.6",
      "file_extension": ".py",
      "codemirror_mode": {
        "version": 3,
        "name": "ipython"
      }
    }
  },
  "nbformat": 4,
  "nbformat_minor": 2
}